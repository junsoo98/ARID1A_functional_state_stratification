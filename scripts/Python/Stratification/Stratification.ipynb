{
 "cells": [
  {
   "cell_type": "code",
   "execution_count": null,
   "metadata": {},
   "outputs": [],
   "source": [
    "#python version 3.11.7\n",
    "import pkg_resources\n",
    "import pandas as pd  \n",
    "import numpy as np \n",
    "import matplotlib.pyplot as plt \n",
    "import seaborn as sns \n",
    "from boruta import BorutaPy \n",
    "import optuna \n",
    "import joblib \n",
    "from sklearn.model_selection import train_test_split\n",
    "from sklearn.metrics import mean_squared_error\n",
    "from sklearn.model_selection import cross_val_score\n",
    "from sklearn.linear_model import LogisticRegression\n",
    "from sklearn.svm import SVC\n",
    "from sklearn.linear_model import SGDClassifier\n",
    "from sklearn.neighbors import KNeighborsClassifier\n",
    "from sklearn.naive_bayes import GaussianNB\n",
    "from sklearn.ensemble import RandomForestClassifier\n",
    "from xgboost import XGBRFClassifier \n",
    "from lightgbm import LGBMClassifier \n",
    "import pickle \n",
    "from statannot import add_stat_annotation \n",
    "import shap\n",
    "from sklearn.metrics import accuracy_score\n",
    "from sklearn.metrics import f1_score\n",
    "from sklearn.metrics import roc_auc_score\n",
    "from sklearn.metrics import cohen_kappa_score\n",
    "from sklearn.metrics import log_loss\n",
    "from imblearn.over_sampling import SMOTE\n",
    "from sklearn.metrics import r2_score\n",
    "\n",
    "from imblearn.over_sampling import SMOTE\n",
    "from sklearn.multioutput import MultiOutputClassifier\n",
    "from imblearn.pipeline import make_pipeline\n",
    "\n",
    "\n",
    "np.random.seed(42)\n",
    "\n",
    "#for boruta\n",
    "np.int = np.int32\n",
    "np.float = np.float64\n",
    "np.bool = np.bool_\n",
    "\n"
   ]
  },
  {
   "cell_type": "code",
   "execution_count": null,
   "metadata": {},
   "outputs": [],
   "source": [
    "UCEC_full = pd.read_csv(\"dataset/TCGA_UCEC_scaled.csv\",sep=',', index_col=0)\n",
    "UCEC_full.index = UCEC_full['X']\n",
    "UCEC_full = UCEC_full[UCEC_full.columns.difference(['RNA_count'])]\n",
    "UCEC_full = UCEC_full.dropna(how = 'any')\n",
    "# The column where each feature is located may vary, so you'll need to manually adjust it\n",
    "UCEC_ARID1A = UCEC_full.iloc[:,0]\n",
    "UCEC_RNA = UCEC_full.iloc[:,68]\n",
    "UCEC_Mut = UCEC_full.iloc[:,[2,3,4,6]]\n",
    "UCEC_CNV = UCEC_full.iloc[:,1]\n",
    "UCEC_Met = UCEC_full.iloc[:,7:35]\n",
    "UCEC_miRNA = UCEC_full.iloc[:,35:68]\n"
   ]
  },
  {
   "cell_type": "code",
   "execution_count": null,
   "metadata": {},
   "outputs": [],
   "source": [
    "import os \n",
    "data_dir = 'dataset/'\n",
    "KEGG_key = 'KEGG_'\n",
    "all_files = os.listdir(data_dir)\n",
    "KEGG_files = [file for file in all_files if KEGG_key in file and file.endswith('.csv')]\n",
    "\n",
    "raw_dfs = {}\n",
    "for file in KEGG_files:\n",
    "    file_path = os.path.join(data_dir, file)\n",
    "    df_name = file.replace('.csv', '')  # Remove the file extension from the file name\n",
    "    df_name = df_name.replace('KEGG_', '')\n",
    "    df_name = df_name.replace('_frame', '')\n",
    "    raw_dfs[df_name] = pd.read_csv(file_path, index_col=1)\n",
    "\n",
    "for df_name, df in raw_dfs.items():\n",
    "    df = df[df.columns.difference(['Unnamed: 0'])]\n",
    "    df = df.dropna(how = 'any')\n",
    "    raw_dfs[df_name] = df\n",
    "dfs = raw_dfs.copy()"
   ]
  },
  {
   "cell_type": "code",
   "execution_count": null,
   "metadata": {},
   "outputs": [],
   "source": [
    "High_performance_pathway = ['Proteasome', 'Ribosome',\n",
    "       'RNA_degradation', 'Ubiquitin', 'mRNA_surveillance_pathway']"
   ]
  },
  {
   "cell_type": "code",
   "execution_count": null,
   "metadata": {},
   "outputs": [],
   "source": [
    "PPI_df = pd.read_csv(\"dataset/UCEC_ARID1A_BioGRID_PPI.csv\", sep = ',', index_col =1)\n",
    "PPI_df = PPI_df[PPI_df.columns.difference(['Unnamed: 0'])]"
   ]
  },
  {
   "cell_type": "code",
   "execution_count": null,
   "metadata": {},
   "outputs": [],
   "source": [
    "X = PPI_df.dropna(how = 'any').drop('ARID1A',axis=1)\n",
    "y = PPI_df.dropna(how = 'any')['ARID1A']\n",
    "print(X.shape)\n",
    "print(y.shape)\n",
    "X_train, X_test, y_train, y_test = train_test_split(X, y, test_size=0.2, random_state=42)"
   ]
  },
  {
   "cell_type": "code",
   "execution_count": null,
   "metadata": {},
   "outputs": [],
   "source": [
    "Predicted_group = UCEC_full.drop(index = X.index).index\n",
    "Observed_group = X.index"
   ]
  },
  {
   "cell_type": "code",
   "execution_count": null,
   "metadata": {},
   "outputs": [],
   "source": [
    "full_label_df = pd.DataFrame(index = UCEC_full.index, columns=['Observed_ARID1A','Predicted_ARID1A','Activity_q1'])"
   ]
  },
  {
   "cell_type": "code",
   "execution_count": null,
   "metadata": {},
   "outputs": [],
   "source": [
    "full_label_df['Observed_ARID1A'] = UCEC_ARID1A\n"
   ]
  },
  {
   "cell_type": "markdown",
   "metadata": {},
   "source": [
    "## Regression Prediction "
   ]
  },
  {
   "cell_type": "code",
   "execution_count": null,
   "metadata": {},
   "outputs": [],
   "source": [
    "Prediction_matrix = pd.DataFrame(index=UCEC_full.index)"
   ]
  },
  {
   "cell_type": "code",
   "execution_count": null,
   "metadata": {},
   "outputs": [],
   "source": [
    "X = pd.concat([UCEC_RNA, UCEC_Mut, UCEC_Met], axis = 1)\n",
    "y = UCEC_ARID1A\n",
    "print(X.loc[Observed_group,:].shape)\n",
    "print(y.loc[Observed_group].shape)"
   ]
  },
  {
   "cell_type": "code",
   "execution_count": null,
   "metadata": {},
   "outputs": [],
   "source": [
    "cur_model = joblib.load(\"/Models/Omics_Model/Omics_model.pkl\")\n",
    "cur_model.fit(X.loc[Observed_group,:], y.loc[Observed_group]) ## finalize the model with full dataset \n",
    "Omics_y_pred = cur_model.predict(X)\n",
    "Prediction_matrix['Omics'] = Omics_y_pred"
   ]
  },
  {
   "cell_type": "code",
   "execution_count": null,
   "metadata": {},
   "outputs": [],
   "source": [
    "for df_name, df in dfs.items():\n",
    "    X = df.drop('ARID1A', axis=1)\n",
    "    y = df['ARID1A']\n",
    "    X_filtered = df.dropna(how='any').drop('ARID1A', axis=1)\n",
    "    y_filtered = df.dropna(how='any')['ARID1A']\n",
    "    cur_model = joblib.load(f'/Models/KEGG_Model/{df_name}_model.pkl')\n",
    "    cur_model.fit(X_filtered, y_filtered) ## finalize the model with full dataset \n",
    "    cur_y_pred = cur_model.predict(X)\n",
    "    Prediction_matrix[\"KEGG_\" + df_name] = np.nan\n",
    "    Prediction_matrix.loc[X.index,\"KEGG_\" + df_name] = cur_y_pred"
   ]
  },
  {
   "cell_type": "code",
   "execution_count": null,
   "metadata": {},
   "outputs": [],
   "source": [
    "X = PPI_df.drop('ARID1A',axis=1)\n",
    "y = PPI_df['ARID1A']\n",
    "X_filtered = PPI_df.dropna(how='any').drop('ARID1A', axis=1)\n",
    "y_filtered = PPI_df.dropna(how='any')['ARID1A']\n",
    "cur_model = joblib.load(\"/Models/BioGRID_Model/BioGRID_model.pkl\")\n",
    "cur_model.fit(X_filtered, y_filtered) ## finalize the model with full dataset \n",
    "cur_y_pred = cur_model.predict(X)\n",
    "Prediction_matrix[\"BioGRID\"] = np.nan\n",
    "Prediction_matrix.loc[X.index,\"BioGRID\"] = cur_y_pred"
   ]
  },
  {
   "cell_type": "code",
   "execution_count": null,
   "metadata": {},
   "outputs": [],
   "source": [
    "print(Prediction_matrix.shape)\n",
    "print(Prediction_matrix.dropna(how = 'any').shape)"
   ]
  },
  {
   "cell_type": "code",
   "execution_count": null,
   "metadata": {},
   "outputs": [],
   "source": [
    "Prediction_matrix['KEGG_Selected'] = Prediction_matrix.loc[:,['KEGG_' + s for s in High_performance_pathway]].mean(axis = 1) \n"
   ]
  },
  {
   "cell_type": "code",
   "execution_count": null,
   "metadata": {},
   "outputs": [],
   "source": [
    "Prediction_matrix['3_model_selected'] = Prediction_matrix.iloc[:,[0,16,17]].mean(axis=1)"
   ]
  },
  {
   "cell_type": "code",
   "execution_count": null,
   "metadata": {},
   "outputs": [],
   "source": [
    "full_label_df.loc[Predicted_group,'Predicted_ARID1A'] = Prediction_matrix.loc[Predicted_group,'3_model_selected']"
   ]
  },
  {
   "cell_type": "code",
   "execution_count": null,
   "metadata": {},
   "outputs": [],
   "source": [
    "full_label_df.loc[Observed_group,'Predicted_ARID1A'] = full_label_df.loc[Observed_group,'Observed_ARID1A']"
   ]
  },
  {
   "cell_type": "code",
   "execution_count": null,
   "metadata": {},
   "outputs": [],
   "source": [
    "full_label_df.iloc[:,0:2].to_csv('dataset/UCEC_Observed_Predicted_ARID1A.csv')"
   ]
  },
  {
   "cell_type": "markdown",
   "metadata": {},
   "source": [
    "### 3 level separation for Observed & Predicted group"
   ]
  },
  {
   "cell_type": "code",
   "execution_count": null,
   "metadata": {},
   "outputs": [],
   "source": [
    "# Convert the integer vector into labels\n",
    "def assign_label(value, Q1, Q3):\n",
    "    if np.isnan(value):\n",
    "        return np.nan\n",
    "    elif value <= Q1:\n",
    "        return 'Low'\n",
    "    elif value >= Q3:\n",
    "        return 'High'\n",
    "    else:\n",
    "        return 'Medium'"
   ]
  },
  {
   "cell_type": "code",
   "execution_count": null,
   "metadata": {},
   "outputs": [],
   "source": [
    "Q1 = np.percentile(full_label_df.loc[Observed_group,'Observed_ARID1A'], 25)\n",
    "Q3 = np.percentile(full_label_df.loc[Observed_group,'Observed_ARID1A'], 75)\n",
    "full_label_df['Observed_ARID1A'] = np.array([assign_label(x, Q1, Q3) for x in full_label_df['Observed_ARID1A']])"
   ]
  },
  {
   "cell_type": "code",
   "execution_count": null,
   "metadata": {},
   "outputs": [],
   "source": [
    "Q1 = np.percentile(full_label_df['Predicted_ARID1A'], 25)\n",
    "Q3 = np.percentile(full_label_df['Predicted_ARID1A'], 75)\n",
    "full_label_df['Predicted_ARID1A'] = np.array([assign_label(x, Q1, Q3) for x in full_label_df['Predicted_ARID1A']])"
   ]
  },
  {
   "cell_type": "markdown",
   "metadata": {},
   "source": [
    "## Classification Labeling"
   ]
  },
  {
   "cell_type": "code",
   "execution_count": null,
   "metadata": {},
   "outputs": [],
   "source": [
    "UCEC_label = pd.read_csv(\"dataset/UCEC_554_targets_Functional_data.csv\",sep=',', index_col=0)\n",
    "Targets = pd.read_csv(\"dataset/554_targets_summary.csv\",sep=',', index_col=0)\n",
    "Targets = Targets.loc[Targets['Gene Symbol'].isin(list(UCEC_label.columns)),:]\n",
    "UCEC_label_q1 = UCEC_label.loc[:,UCEC_label.describe().loc['freq',:] < (539 * 0.75)]\n",
    "\n",
    "\n",
    "\n",
    "\n"
   ]
  },
  {
   "cell_type": "code",
   "execution_count": null,
   "metadata": {},
   "outputs": [],
   "source": [
    "UCEC_label_q1.mode(axis=1)[0].value_counts()"
   ]
  },
  {
   "cell_type": "markdown",
   "metadata": {},
   "source": [
    "## Add the classification label "
   ]
  },
  {
   "cell_type": "code",
   "execution_count": null,
   "metadata": {},
   "outputs": [],
   "source": [
    "full_label_df['Activity_q1'] = UCEC_label_q1.mode(axis=1)[0]\n",
    "\n"
   ]
  },
  {
   "cell_type": "markdown",
   "metadata": {},
   "source": [
    "## Generated Label\n",
    "* Observed group uses observe ARID1A expression,\n",
    "* Predicted group uses predicted ARID1A expression. \n",
    "* Both groups use Activity_q1 label \n",
    "\n",
    "## 1. mRNA based label\n",
    "- 3 level separation based on ARID1A processed mRNA\n",
    "\n",
    "## 2. protein based label\n",
    "- 3 level separation based on ARID1A observed protein (only observed group)\n",
    "\n",
    "## 3. functional state  based label\n",
    "- Additional predicted protein expression (+ predicted group) + Activity label \n",
    "\n",
    "### Extract the intersection\n",
    "- TRUE = ARID1A protein High ^ Activity Active \n",
    "- FALSE = ARID1A protein Low ^ Aativity Inactive "
   ]
  },
  {
   "cell_type": "code",
   "execution_count": null,
   "metadata": {},
   "outputs": [],
   "source": [
    "UCEC_RNA_TPM = pd.read_csv('dataset/UCEC_mRNA_TPM_matrix.csv', index_col = 0)\n",
    "UCEC_RNA_TPM = UCEC_RNA_TPM['ARID1A']\n"
   ]
  },
  {
   "cell_type": "code",
   "execution_count": null,
   "metadata": {},
   "outputs": [],
   "source": [
    "full_label_df['mRNA_based_label'] = UCEC_RNA_TPM\n",
    "Q1 = np.percentile(UCEC_RNA_TPM, 25)\n",
    "Q3 = np.percentile(UCEC_RNA_TPM, 75)\n",
    "full_label_df['mRNA_based_label'] = np.array([assign_label(x, Q1, Q3) for x in full_label_df['mRNA_based_label']])\n",
    "full_label_df['mRNA_based_label'].value_counts()"
   ]
  },
  {
   "cell_type": "code",
   "execution_count": null,
   "metadata": {},
   "outputs": [],
   "source": [
    "full_label_df['protein_based_label'] = full_label_df['Observed_ARID1A']\n",
    "full_label_df['protein_based_label'].value_counts()"
   ]
  },
  {
   "cell_type": "code",
   "execution_count": null,
   "metadata": {},
   "outputs": [],
   "source": [
    "full_label_df['functional_state_based_label'] = np.nan\n",
    "full_label_df.loc[full_label_df.loc[(full_label_df['Observed_ARID1A'] == 'Low')].loc[(full_label_df['Activity_q1'] == False)].index,'functional_state_based_label'] = \"Low\"\n",
    "full_label_df.loc[full_label_df.loc[(full_label_df['Observed_ARID1A'] == 'High')].loc[(full_label_df['Activity_q1'] == True)].index,'functional_state_based_label'] = \"High\"\n",
    "full_label_df.loc[full_label_df.loc[Predicted_group,:].loc[(full_label_df['Predicted_ARID1A'] == 'Low')].loc[(full_label_df['Activity_q1'] == False)].index,'functional_state_based_label'] = \"Low\"\n",
    "full_label_df.loc[full_label_df.loc[Predicted_group,:].loc[(full_label_df['Predicted_ARID1A'] == 'High')].loc[(full_label_df['Activity_q1'] == True)].index,'functional_state_based_label'] = \"High\"\n"
   ]
  },
  {
   "cell_type": "code",
   "execution_count": null,
   "metadata": {},
   "outputs": [],
   "source": [
    "full_label_df[\"functional_state_based_label\"].value_counts()"
   ]
  },
  {
   "cell_type": "code",
   "execution_count": null,
   "metadata": {},
   "outputs": [],
   "source": [
    "full_label_df = full_label_df.loc[:,['mRNA_based_label', 'protein_based_label', 'functional_state_based_label']]\n",
    "full_label_df.to_csv(\"dataset/UCEC_DEG_labels_mRNA_protein_functional_state_based_label.csv\")"
   ]
  }
 ],
 "metadata": {
  "kernelspec": {
   "display_name": "UCEC_2024",
   "language": "python",
   "name": "python3"
  },
  "language_info": {
   "codemirror_mode": {
    "name": "ipython",
    "version": 3
   },
   "file_extension": ".py",
   "mimetype": "text/x-python",
   "name": "python",
   "nbconvert_exporter": "python",
   "pygments_lexer": "ipython3",
   "version": "3.11.7"
  }
 },
 "nbformat": 4,
 "nbformat_minor": 2
}
