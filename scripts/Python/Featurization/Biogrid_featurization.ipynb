{
 "cells": [
  {
   "cell_type": "code",
   "execution_count": null,
   "metadata": {},
   "outputs": [],
   "source": [
    "#python version 3.11.7\n",
    "import pkg_resources\n",
    "import pandas as pd  \n",
    "import numpy as np \n",
    "import matplotlib.pyplot as plt \n",
    "import seaborn as sns \n",
    "from boruta import BorutaPy \n",
    "import optuna \n",
    "import joblib \n",
    "from sklearn.model_selection import train_test_split\n",
    "from sklearn.metrics import mean_squared_error\n",
    "from sklearn.model_selection import cross_val_score\n",
    "from sklearn.linear_model import LinearRegression\n",
    "from sklearn.svm import SVR\n",
    "from sklearn.linear_model import Ridge\n",
    "from sklearn.linear_model import ElasticNet\n",
    "from sklearn.ensemble import VotingRegressor\n",
    "from sklearn.ensemble import RandomForestRegressor\n",
    "from sklearn.metrics import r2_score\n",
    "from xgboost import XGBRegressor \n",
    "from lightgbm import LGBMRegressor\n",
    "import pickle \n",
    "from statannot import add_stat_annotation \n",
    "import shap\n",
    "\n",
    "#np.random.seed(42)\n",
    "\n",
    "#for boruta\n",
    "np.int = np.int32\n",
    "np.float = np.float64\n",
    "np.bool = np.bool_\n"
   ]
  },
  {
   "cell_type": "code",
   "execution_count": null,
   "metadata": {},
   "outputs": [],
   "source": [
    "data_dir = 'dataset/'"
   ]
  },
  {
   "cell_type": "code",
   "execution_count": null,
   "metadata": {},
   "outputs": [],
   "source": [
    "PPI_df = pd.read_csv(\"dataset/UCEC_ARID1A_BioGRID_PPI.csv\", sep = ',', index_col =1)\n",
    "PPI_df = PPI_df[PPI_df.columns.difference(['Unnamed: 0'])]\n"
   ]
  },
  {
   "cell_type": "code",
   "execution_count": null,
   "metadata": {},
   "outputs": [],
   "source": [
    "PPI_df = PPI_df.dropna(how = 'any')\n",
    "X = PPI_df.drop('ARID1A',axis=1)\n",
    "y = PPI_df['ARID1A']\n"
   ]
  },
  {
   "cell_type": "code",
   "execution_count": null,
   "metadata": {},
   "outputs": [],
   "source": [
    "#Train, Test set split\n",
    "X_train, X_test, y_train, y_test = train_test_split(X, y, test_size=0.2, random_state=42)"
   ]
  },
  {
   "cell_type": "code",
   "execution_count": null,
   "metadata": {},
   "outputs": [],
   "source": [
    "#check the correlation of PPI genes and ARID1A expression\n",
    "correlations = X.apply(lambda col: np.corrcoef(col, y)[0,1])\n",
    "correlations = correlations.sort_values()"
   ]
  },
  {
   "cell_type": "markdown",
   "metadata": {},
   "source": [
    "## Random Forest & Linear regression model for feature\n",
    "* RF model\n",
    "* Linear model \n",
    "* Compare RMSE, R2, R\n",
    "* Better result becomes a feature"
   ]
  },
  {
   "cell_type": "code",
   "execution_count": null,
   "metadata": {},
   "outputs": [],
   "source": [
    "Result_matrix = pd.DataFrame(columns=['train_RMSE','train_R2','train_R','test_RMSE','test_R2','test_R'])"
   ]
  },
  {
   "cell_type": "code",
   "execution_count": null,
   "metadata": {},
   "outputs": [],
   "source": [
    "def RandomForestRegressor_objective(trial):\n",
    "    params = { \n",
    "        'n_estimators': trial.suggest_int('n_estimators', 100, 2000, step=100),\n",
    "        'max_depth': trial.suggest_int('max_depth', 5, 100),\n",
    "        'min_samples_split': trial.suggest_int('min_samples_split', 2, 10),\n",
    "        'min_samples_leaf': trial.suggest_int('min_samples_leaf', 1, 10),\n",
    "        'max_features': trial.suggest_categorical('max_features', ['sqrt', 'log2']),\n",
    "        'bootstrap': trial.suggest_categorical('bootstrap',[True, False]),\n",
    "        'n_jobs' : -1,\n",
    "        'random_state' : 42\n",
    "    }\n",
    "    \n",
    "    model = RandomForestRegressor(**params)\n",
    "    rf_cv = -1 * cross_val_score(model, X_train, y_train, cv=5, scoring='neg_mean_squared_error', n_jobs= -1)\n",
    "    return np.mean(rf_cv)\n"
   ]
  },
  {
   "cell_type": "code",
   "execution_count": null,
   "metadata": {},
   "outputs": [],
   "source": [
    "study = optuna.create_study(direction='minimize')\n",
    "study.optimize(RandomForestRegressor_objective, n_trials=300)\n",
    "best_params = study.best_params\n",
    "RF_model = RandomForestRegressor(**best_params)\n",
    "RF_model.fit(X_train, y_train)\n",
    "train_y_pred = RF_model.predict(X_train)\n",
    "train_rmse = np.sqrt(mean_squared_error(y_train, train_y_pred))\n",
    "train_r2 = r2_score(y_train, train_y_pred)\n",
    "train_corr = np.corrcoef(y_train, train_y_pred)[0,1]\n",
    "test_y_pred = RF_model.predict(X_test)\n",
    "test_rmse = np.sqrt(mean_squared_error(y_test, test_y_pred))\n",
    "test_r2 = r2_score(y_test, test_y_pred)\n",
    "test_corr = np.corrcoef(y_test, test_y_pred)[0,1]\n",
    "Result_matrix.loc['RF_model'] = [train_rmse,train_r2,train_corr,test_rmse,test_r2,test_corr]\n"
   ]
  },
  {
   "cell_type": "code",
   "execution_count": null,
   "metadata": {},
   "outputs": [],
   "source": [
    "# Define Ridge Regressor\n",
    "def ridge_objective(trial):\n",
    "    params = { \n",
    "        # alpha = regularization strength\n",
    "        'alpha' : trial.suggest_float('alpha', 0.1, 100, log=True),\n",
    "        'fit_intercept': trial.suggest_categorical('fit_intercept', [True, False]),\n",
    "        'random_state' : 42\n",
    "    }\n",
    "    \n",
    "    model = Ridge(**params)\n",
    "    ridge_cv = -1 * cross_val_score(model, X_train, y_train, cv=5, scoring='neg_mean_squared_error', n_jobs= -1)\n",
    "\n",
    "    return np.mean(ridge_cv)"
   ]
  },
  {
   "cell_type": "code",
   "execution_count": null,
   "metadata": {},
   "outputs": [],
   "source": [
    "ridge_study = optuna.create_study(direction='minimize')\n",
    "ridge_study.optimize(ridge_objective, n_trials = 300)\n",
    "ridge_best_params = ridge_study.best_params\n",
    "linear_model = Ridge(**ridge_best_params)\n",
    "linear_model.fit(X_train, y_train)\n",
    "train_y_pred = linear_model.predict(X_train)\n",
    "train_rmse = np.sqrt(mean_squared_error(y_train, train_y_pred))\n",
    "train_r2 = r2_score(y_train, train_y_pred)\n",
    "train_corr = np.corrcoef(y_train, train_y_pred)[0,1]\n",
    "test_y_pred = linear_model.predict(X_test)\n",
    "test_rmse = np.sqrt(mean_squared_error(y_test, test_y_pred))\n",
    "test_r2 = r2_score(y_test, test_y_pred)\n",
    "test_corr = np.corrcoef(y_test, test_y_pred)[0,1]\n",
    "Result_matrix.loc['Ridge'] = [train_rmse,train_r2,train_corr,test_rmse,test_r2,test_corr]"
   ]
  },
  {
   "cell_type": "code",
   "execution_count": null,
   "metadata": {},
   "outputs": [],
   "source": [
    "Result_matrix\n",
    "# In the paper, linear model was selected "
   ]
  },
  {
   "cell_type": "code",
   "execution_count": null,
   "metadata": {},
   "outputs": [],
   "source": [
    "raw_PPI_df = pd.read_csv(\"dataset/UCEC_ARID1A_BioGRID_PPI.csv\", sep = ',', index_col =1)\n",
    "raw_PPI_df = raw_PPI_df[raw_PPI_df.columns.difference(['Unnamed: 0'])]\n",
    "linear_model.fit(X, y)\n",
    "y_pred = linear_model.predict(raw_PPI_df.drop('ARID1A', axis=1))\n"
   ]
  },
  {
   "cell_type": "code",
   "execution_count": null,
   "metadata": {},
   "outputs": [],
   "source": [
    "Biogrid_feature = pd.DataFrame(y_pred, columns = ['BioGRID'], index = raw_PPI_df.index)\n",
    "Biogrid_feature.to_csv(\"/dataset/Biogrid_feature.csv\")\n"
   ]
  },
  {
   "cell_type": "code",
   "execution_count": null,
   "metadata": {},
   "outputs": [],
   "source": []
  }
 ],
 "metadata": {
  "kernelspec": {
   "display_name": "base",
   "language": "python",
   "name": "python3"
  },
  "language_info": {
   "codemirror_mode": {
    "name": "ipython",
    "version": 3
   },
   "file_extension": ".py",
   "mimetype": "text/x-python",
   "name": "python",
   "nbconvert_exporter": "python",
   "pygments_lexer": "ipython3",
   "version": "3.11.7"
  }
 },
 "nbformat": 4,
 "nbformat_minor": 2
}
