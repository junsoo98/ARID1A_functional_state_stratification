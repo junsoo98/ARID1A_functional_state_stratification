{
 "cells": [
  {
   "cell_type": "code",
   "execution_count": null,
   "metadata": {},
   "outputs": [],
   "source": [
    "#python version 3.11.7\n",
    "import pkg_resources\n",
    "import pandas as pd  \n",
    "import numpy as np \n",
    "import matplotlib.pyplot as plt \n",
    "import seaborn as sns \n",
    "from boruta import BorutaPy \n",
    "import optuna \n",
    "import joblib \n",
    "from sklearn.model_selection import train_test_split\n",
    "from sklearn.metrics import mean_squared_error\n",
    "from sklearn.model_selection import cross_val_score\n",
    "from sklearn.linear_model import LinearRegression\n",
    "from sklearn.svm import SVR\n",
    "from sklearn.linear_model import Ridge\n",
    "from sklearn.linear_model import ElasticNet\n",
    "from sklearn.ensemble import VotingRegressor\n",
    "from sklearn.ensemble import RandomForestRegressor\n",
    "from sklearn.metrics import r2_score\n",
    "from xgboost import XGBRegressor \n",
    "from lightgbm import LGBMRegressor\n",
    "import pickle \n",
    "from statannot import add_stat_annotation \n",
    "import shap\n",
    "\n",
    "#np.random.seed(42)\n",
    "\n",
    "#for boruta\n",
    "np.int = np.int32\n",
    "np.float = np.float64\n",
    "np.bool = np.bool_\n"
   ]
  },
  {
   "cell_type": "code",
   "execution_count": null,
   "metadata": {},
   "outputs": [],
   "source": [
    "import os \n",
    "data_dir = 'dataset/'\n",
    "KEGG_key = 'KEGG_'\n",
    "all_files = os.listdir(data_dir)\n",
    "KEGG_files = [file for file in all_files if KEGG_key in file and file.endswith('.csv')]\n"
   ]
  },
  {
   "cell_type": "code",
   "execution_count": null,
   "metadata": {},
   "outputs": [],
   "source": [
    "\n",
    "raw_dfs = {}\n",
    "for file in KEGG_files:\n",
    "    file_path = os.path.join(data_dir, file)\n",
    "    df_name = file.replace('.csv', '')  # Remove the file extension from the file name\n",
    "    raw_dfs[df_name] = pd.read_csv(file_path, index_col=1)"
   ]
  },
  {
   "cell_type": "code",
   "execution_count": null,
   "metadata": {},
   "outputs": [],
   "source": [
    "for df_name, df in raw_dfs.items():\n",
    "    df = df[df.columns.difference(['Unnamed: 0'])]\n",
    "    print(f'{df_name}:{df.shape}')\n",
    "    raw_dfs[df_name] = df\n",
    "dfs = raw_dfs.copy()"
   ]
  },
  {
   "cell_type": "code",
   "execution_count": null,
   "metadata": {},
   "outputs": [],
   "source": [
    "#preprocessing \n",
    "for df_name, df in dfs.items():\n",
    "    df = df.dropna(how = 'any')\n",
    "    dfs[df_name] = df"
   ]
  },
  {
   "cell_type": "code",
   "execution_count": null,
   "metadata": {},
   "outputs": [],
   "source": [
    "for df_name, df in dfs.items():\n",
    "    print(f'{df_name}:{df.shape}')"
   ]
  },
  {
   "cell_type": "code",
   "execution_count": null,
   "metadata": {},
   "outputs": [],
   "source": [
    "# choose \"KEGG_Aminoacyl_tRNA_biosynthesis_frame\" for index example. \n",
    "pred_matrix = pd.DataFrame(index=raw_dfs['KEGG_Aminoacyl_tRNA_biosynthesis_frame'].index,\n",
    "                           columns=dfs.keys())"
   ]
  },
  {
   "cell_type": "code",
   "execution_count": null,
   "metadata": {},
   "outputs": [],
   "source": [
    "Result_matrix = pd.DataFrame(index = dfs.keys(), columns=['train_RMSE','train_R2','train_R','test_RMSE','test_R2','test_R'])"
   ]
  },
  {
   "cell_type": "code",
   "execution_count": null,
   "metadata": {},
   "outputs": [],
   "source": [
    "# Define Ridge Regressor\n",
    "def ridge_objective(trial):\n",
    "    params = { \n",
    "        # alpha = regularization strength\n",
    "        'alpha' : trial.suggest_float('alpha', 0.1, 100, log=True),\n",
    "        'fit_intercept': trial.suggest_categorical('fit_intercept', [True, False]),\n",
    "        'random_state' : 42\n",
    "    }\n",
    "    \n",
    "    model = Ridge(**params)\n",
    "    ridge_cv = -1 * cross_val_score(model, X_train, y_train, cv=5, scoring='neg_mean_squared_error', n_jobs= -1)\n",
    "\n",
    "    return np.mean(ridge_cv)"
   ]
  },
  {
   "cell_type": "code",
   "execution_count": null,
   "metadata": {},
   "outputs": [],
   "source": [
    "len(raw_dfs[df_name])"
   ]
  },
  {
   "cell_type": "code",
   "execution_count": null,
   "metadata": {},
   "outputs": [],
   "source": [
    "for i, (df_name, df) in enumerate(dfs.items()):\n",
    "    X = df.drop('ARID1A', axis=1)\n",
    "    y = df['ARID1A']\n",
    "    X_train, X_test, y_train, y_test = train_test_split(X, y, test_size=0.2, random_state=42)\n",
    "    ridge_study = optuna.create_study(direction='minimize')\n",
    "    ridge_study.optimize(ridge_objective, n_trials = 300)\n",
    "    ridge_best_params = ridge_study.best_params\n",
    "    linear_model = Ridge(**ridge_best_params)\n",
    "    linear_model.fit(X_train, y_train)\n",
    "    train_y_pred = linear_model.predict(X_train)\n",
    "    train_rmse = np.sqrt(mean_squared_error(y_train, train_y_pred))\n",
    "    train_r2 = r2_score(y_train, train_y_pred)\n",
    "    train_corr = np.corrcoef(y_train, train_y_pred)[0,1]\n",
    "    test_y_pred = linear_model.predict(X_test)\n",
    "    test_rmse = np.sqrt(mean_squared_error(y_test, test_y_pred))\n",
    "    test_r2 = r2_score(y_test, test_y_pred)\n",
    "    test_corr = np.corrcoef(y_test, test_y_pred)[0,1]\n",
    "    Result_matrix.loc[df_name] = [train_rmse,train_r2,train_corr,test_rmse,test_r2,test_corr]\n",
    "    linear_model.fit(X, y)\n",
    "    pred_matrix[df_name] = linear_model.predict(raw_dfs[df_name].drop('ARID1A', axis=1)) "
   ]
  },
  {
   "cell_type": "code",
   "execution_count": null,
   "metadata": {},
   "outputs": [],
   "source": [
    "Result_matrix"
   ]
  },
  {
   "cell_type": "code",
   "execution_count": null,
   "metadata": {},
   "outputs": [],
   "source": [
    "pred_matrix.to_csv('dataset/KEGG_feature.csv')\n"
   ]
  }
 ],
 "metadata": {
  "kernelspec": {
   "display_name": "base",
   "language": "python",
   "name": "python3"
  },
  "language_info": {
   "codemirror_mode": {
    "name": "ipython",
    "version": 3
   },
   "file_extension": ".py",
   "mimetype": "text/x-python",
   "name": "python",
   "nbconvert_exporter": "python",
   "pygments_lexer": "ipython3",
   "version": "3.11.7"
  }
 },
 "nbformat": 4,
 "nbformat_minor": 2
}
