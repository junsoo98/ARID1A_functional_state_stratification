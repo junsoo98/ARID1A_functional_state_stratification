{
 "cells": [
  {
   "cell_type": "code",
   "execution_count": null,
   "metadata": {},
   "outputs": [],
   "source": [
    "#python version 3.11.7\n",
    "import pkg_resources\n",
    "import pandas as pd  \n",
    "import numpy as np \n",
    "import matplotlib.pyplot as plt \n",
    "import seaborn as sns \n",
    "from boruta import BorutaPy \n",
    "import optuna \n",
    "import joblib \n",
    "from sklearn.model_selection import train_test_split\n",
    "from sklearn.metrics import mean_squared_error\n",
    "from sklearn.model_selection import cross_val_score\n",
    "from sklearn.linear_model import LinearRegression\n",
    "from sklearn.svm import SVR\n",
    "from sklearn.linear_model import Ridge\n",
    "from sklearn.linear_model import ElasticNet\n",
    "from sklearn.ensemble import VotingRegressor\n",
    "from sklearn.ensemble import RandomForestRegressor\n",
    "from sklearn.metrics import r2_score\n",
    "from xgboost import XGBRegressor \n",
    "from lightgbm import LGBMRegressor\n",
    "import pickle \n",
    "from statannot import add_stat_annotation \n",
    "import shap\n",
    "\n",
    "#np.random.seed(42)\n",
    "\n",
    "#for boruta\n",
    "np.int = np.int32\n",
    "np.float = np.float64\n",
    "np.bool = np.bool_\n"
   ]
  },
  {
   "cell_type": "markdown",
   "metadata": {},
   "source": [
    "## Omics prediction"
   ]
  },
  {
   "cell_type": "code",
   "execution_count": null,
   "metadata": {},
   "outputs": [],
   "source": [
    "Result_matrix = pd.DataFrame(columns=['test_RMSE','test_R2','test_R'])\n"
   ]
  },
  {
   "cell_type": "code",
   "execution_count": null,
   "metadata": {},
   "outputs": [],
   "source": [
    "\n",
    "UCEC_full = pd.read_csv(\"dataset/TCGA_UCEC_scaled.csv\",sep=',', index_col=0)\n",
    "UCEC_full.index = UCEC_full['X']\n",
    "UCEC_full = UCEC_full[UCEC_full.columns.difference(['RNA_count'])]\n",
    "UCEC_full = UCEC_full.dropna(how = 'any')\n",
    "# The column where each feature is located may vary, so you'll need to manually adjust it\n",
    "UCEC_ARID1A = UCEC_full.iloc[:,0]\n",
    "UCEC_RNA = UCEC_full.iloc[:,68]\n",
    "UCEC_Mut = UCEC_full.iloc[:,[2,3,4,6]]\n",
    "UCEC_CNV = UCEC_full.iloc[:,1]\n",
    "UCEC_Met = UCEC_full.iloc[:,7:35]\n",
    "UCEC_miRNA = UCEC_full.iloc[:,35:68]\n"
   ]
  },
  {
   "cell_type": "code",
   "execution_count": null,
   "metadata": {},
   "outputs": [],
   "source": [
    "X = pd.concat([UCEC_RNA, UCEC_Mut, UCEC_Met], axis = 1)\n",
    "y = UCEC_ARID1A\n",
    "X_train, X_test, y_train, y_test = train_test_split(X, y, test_size=0.2, random_state=42)\n",
    "cur_model = joblib.load(\"/Models/Omics_Model/Omics_model.pkl\")\n",
    "cur_y_pred = cur_model.predict(X_test)\n",
    "cur_rmse = np.sqrt(mean_squared_error(y_test, cur_y_pred))\n",
    "cur_r2 = r2_score(y_test, cur_y_pred)\n",
    "cur_corr = np.corrcoef(y_test, cur_y_pred)[0,1]    \n",
    "Omics_y_pred = cur_y_pred \n",
    "Result_matrix.loc[\"RNA_Mut_Met\"] = [cur_rmse,cur_r2,cur_corr]\n"
   ]
  },
  {
   "cell_type": "code",
   "execution_count": null,
   "metadata": {},
   "outputs": [],
   "source": [
    "Prediction_matrix = pd.DataFrame({\"y_test\" : y_test,\"RNA_Mut_Met\": Omics_y_pred}, index=y_test.index)\n",
    "Prediction_matrix"
   ]
  },
  {
   "cell_type": "markdown",
   "metadata": {},
   "source": [
    "## KEGG prediction"
   ]
  },
  {
   "cell_type": "code",
   "execution_count": null,
   "metadata": {},
   "outputs": [],
   "source": [
    "import os \n",
    "data_dir = 'dataset/'\n",
    "KEGG_key = 'KEGG_'\n",
    "all_files = os.listdir(data_dir)\n",
    "KEGG_files = [file for file in all_files if KEGG_key in file and file.endswith('.csv')]\n",
    "\n",
    "raw_dfs = {}\n",
    "for file in KEGG_files:\n",
    "    file_path = os.path.join(data_dir, file)\n",
    "    df_name = file.replace('.csv', '')  # Remove the file extension from the file name\n",
    "    df_name = df_name.replace('KEGG_', '')\n",
    "    df_name = df_name.replace('_frame', '')\n",
    "    raw_dfs[df_name] = pd.read_csv(file_path, index_col=1)\n",
    "\n",
    "for df_name, df in raw_dfs.items():\n",
    "    df = df[df.columns.difference(['Unnamed: 0'])]\n",
    "    df = df.dropna(how = 'any')\n",
    "    raw_dfs[df_name] = df\n",
    "dfs = raw_dfs.copy()"
   ]
  },
  {
   "cell_type": "code",
   "execution_count": null,
   "metadata": {},
   "outputs": [],
   "source": [
    "for df_name, df in dfs.items():\n",
    "    X = df.drop('ARID1A', axis=1)\n",
    "    y = df['ARID1A']\n",
    "    X_train, X_test, y_train, y_test = train_test_split(X, y, test_size=0.2, random_state=42)\n",
    "    cur_model = joblib.load(f'/Models/KEGG_Model/{df_name}_model.pkl')\n",
    "    cur_y_pred = cur_model.predict(X_test)\n",
    "    cur_rmse = np.sqrt(mean_squared_error(y_test, cur_y_pred))\n",
    "    cur_r2 = r2_score(y_test, cur_y_pred)\n",
    "    cur_corr = np.corrcoef(y_test, cur_y_pred)[0,1]    \n",
    "    globals()[df_name + \"_y_pred\"] = cur_y_pred\n",
    "    Result_matrix.loc[\"KEGG_\" + df_name] = [cur_rmse,cur_r2,cur_corr]\n",
    "    Prediction_matrix[\"KEGG_\" + df_name] = cur_y_pred"
   ]
  },
  {
   "cell_type": "markdown",
   "metadata": {},
   "source": [
    "## BioGRID prediction"
   ]
  },
  {
   "cell_type": "code",
   "execution_count": null,
   "metadata": {},
   "outputs": [],
   "source": [
    "PPI_df = pd.read_csv(\"dataset/UCEC_ARID1A_BioGRID_PPI.csv\", sep = ',', index_col =1)\n",
    "PPI_df = PPI_df[PPI_df.columns.difference(['Unnamed: 0'])]\n",
    "PPI_df = PPI_df.dropna(how = 'any')\n",
    "X = PPI_df.drop('ARID1A',axis=1)\n",
    "y = PPI_df['ARID1A']\n",
    "X_train, X_test, y_train, y_test = train_test_split(X, y, test_size=0.2, random_state=42)\n",
    "cur_model = joblib.load(\"/Models/BioGRID_Model/BioGRID_model.pkl\")\n",
    "cur_y_pred = cur_model.predict(X_test)\n",
    "cur_rmse = np.sqrt(mean_squared_error(y_test, cur_y_pred))\n",
    "cur_r2 = r2_score(y_test, cur_y_pred)\n",
    "cur_corr = np.corrcoef(y_test, cur_y_pred)[0,1]    \n",
    "BioGRID_y_pred = cur_y_pred \n",
    "Result_matrix.loc[\"BioGRID\"] = [cur_rmse,cur_r2,cur_corr]\n",
    "Prediction_matrix[\"BioGRID\"] = cur_y_pred"
   ]
  },
  {
   "cell_type": "code",
   "execution_count": null,
   "metadata": {},
   "outputs": [],
   "source": [
    "Result_matrix"
   ]
  },
  {
   "cell_type": "code",
   "execution_count": null,
   "metadata": {},
   "outputs": [],
   "source": [
    "kegg_df = Result_matrix.filter(like=\"KEGG_\", axis=0)\n",
    "\n",
    "# Rank each metric individually (lower RMSE is better, higher R2 and R are better)\n",
    "kegg_df[\"RMSE_rank\"] = kegg_df[\"test_RMSE\"].rank(ascending=True)\n",
    "kegg_df[\"R2_rank\"] = kegg_df[\"test_R2\"].rank(ascending=False)\n",
    "kegg_df[\"R_rank\"] = kegg_df[\"test_R\"].rank(ascending=False)\n",
    "\n",
    "# Compute mean rank\n",
    "kegg_df[\"mean_rank\"] = kegg_df[[\"RMSE_rank\", \"R2_rank\", \"R_rank\"]].mean(axis=1)\n",
    "\n",
    "# Select top 5 models based on mean rank\n",
    "top_5_kegg = kegg_df.sort_values(\"mean_rank\").head(5)\n"
   ]
  },
  {
   "cell_type": "code",
   "execution_count": null,
   "metadata": {},
   "outputs": [],
   "source": [
    "kegg_sorted = kegg_df.sort_values(\"mean_rank\")\n",
    "mean_ranks = kegg_sorted[\"mean_rank\"]\n",
    "labels = kegg_sorted.index\n",
    "\n",
    "# Create the bar plot\n",
    "plt.figure(figsize=(10, 6))\n",
    "plt.bar(labels, mean_ranks, color='skyblue')\n",
    "plt.ylabel('Mean Rank', fontsize=12)\n",
    "plt.title('Mean Rank of RMSE, R, R-squared', fontsize=14)\n",
    "plt.xticks(rotation=45,ha = 'right', fontsize=10)\n",
    "plt.tight_layout()\n"
   ]
  },
  {
   "cell_type": "markdown",
   "metadata": {},
   "source": [
    "## Prediction result analysis"
   ]
  },
  {
   "cell_type": "code",
   "execution_count": null,
   "metadata": {},
   "outputs": [],
   "source": [
    "Prediction_matrix[\"KEGG_average\"] =  Prediction_matrix.iloc[:,2:17].mean(axis = 1)"
   ]
  },
  {
   "cell_type": "code",
   "execution_count": null,
   "metadata": {},
   "outputs": [],
   "source": [
    "Prediction_matrix[\"3_model_avg\"] = Prediction_matrix.iloc[:,[1,17,18]].mean(axis=1)"
   ]
  },
  {
   "cell_type": "code",
   "execution_count": null,
   "metadata": {},
   "outputs": [],
   "source": [
    "cur_y_pred = Prediction_matrix[\"KEGG_average\"]\n",
    "cur_rmse = np.sqrt(mean_squared_error(y_test, cur_y_pred))\n",
    "cur_r2 = r2_score(y_test, cur_y_pred)\n",
    "cur_corr = np.corrcoef(y_test, cur_y_pred)[0,1]    \n",
    "Result_matrix.loc[\"KEGG_average\"] = [cur_rmse,cur_r2,cur_corr]\n",
    "Result_matrix.loc['KEGG_average']"
   ]
  },
  {
   "cell_type": "code",
   "execution_count": null,
   "metadata": {},
   "outputs": [],
   "source": [
    "cur_y_pred = Prediction_matrix[\"3_model_avg\"]\n",
    "cur_rmse = np.sqrt(mean_squared_error(y_test, cur_y_pred))\n",
    "cur_r2 = r2_score(y_test, cur_y_pred)\n",
    "cur_corr = np.corrcoef(y_test, cur_y_pred)[0,1]    \n",
    "Result_matrix.loc[\"3_model_avg\"] = [cur_rmse,cur_r2,cur_corr]\n",
    "Result_matrix.loc['3_model_avg']"
   ]
  },
  {
   "cell_type": "code",
   "execution_count": null,
   "metadata": {},
   "outputs": [],
   "source": [
    "High_performance_pathway = ['Proteasome', 'Ribosome',\n",
    "       'RNA_degradation', 'Ubiquitin', 'mRNA_surveillance_pathway']"
   ]
  },
  {
   "cell_type": "code",
   "execution_count": null,
   "metadata": {},
   "outputs": [],
   "source": [
    "Prediction_matrix.columns"
   ]
  },
  {
   "cell_type": "code",
   "execution_count": null,
   "metadata": {},
   "outputs": [],
   "source": [
    "# Select the index of High performace pathway\n",
    "Prediction_matrix['KEGG_Selected'] = Prediction_matrix.loc[:,['KEGG_' + s for s in High_performance_pathway]].mean(axis = 1)\n",
    "\n",
    "Prediction_matrix[\"3_model_Selected\"] = Prediction_matrix.iloc[:,[1,17,20]].mean(axis=1)"
   ]
  },
  {
   "cell_type": "code",
   "execution_count": null,
   "metadata": {},
   "outputs": [],
   "source": [
    "cur_y_pred = Prediction_matrix[\"KEGG_Selected\"]\n",
    "cur_rmse = np.sqrt(mean_squared_error(y_test, cur_y_pred))\n",
    "cur_r2 = r2_score(y_test, cur_y_pred)\n",
    "cur_corr = np.corrcoef(y_test, cur_y_pred)[0,1]    \n",
    "Result_matrix.loc[\"KEGG_Selected\"] = [cur_rmse,cur_r2,cur_corr]\n",
    "Result_matrix.loc['KEGG_Selected']"
   ]
  },
  {
   "cell_type": "code",
   "execution_count": null,
   "metadata": {},
   "outputs": [],
   "source": [
    "cur_y_pred = Prediction_matrix[\"3_model_Selected\"]\n",
    "cur_rmse = np.sqrt(mean_squared_error(y_test, cur_y_pred))\n",
    "cur_r2 = r2_score(y_test, cur_y_pred)\n",
    "cur_corr = np.corrcoef(y_test, cur_y_pred)[0,1]    \n",
    "Result_matrix.loc[\"3_model_Selected\"] = [cur_rmse,cur_r2,cur_corr]\n",
    "Result_matrix.loc['3_model_Selected']"
   ]
  },
  {
   "cell_type": "code",
   "execution_count": null,
   "metadata": {},
   "outputs": [],
   "source": [
    "fig, ax = plt.subplots(figsize = (6,6))\n",
    "df = Result_matrix.iloc[[0,16,17,19,18,20]]\n",
    "sns.barplot(df, x = df.index, y = \"test_RMSE\", color=\"grey\")\n",
    "plt.xticks(rotation = 45)\n",
    "plt.title(\"Ensemble Result : test_RMSE\")\n",
    "ax.bar_label(ax.containers[0])\n",
    "plt.tight_layout()\n"
   ]
  },
  {
   "cell_type": "code",
   "execution_count": null,
   "metadata": {},
   "outputs": [],
   "source": [
    "fig, ax = plt.subplots(figsize = (6,6))\n",
    "df = Result_matrix.iloc[[0,16,17,19,18,20]]\n",
    "sns.barplot(df, x = df.index, y = \"test_R2\", color=\"grey\")\n",
    "plt.xticks(rotation = 45)\n",
    "plt.title(\"Ensemble Result : test_R2\")\n",
    "ax.bar_label(ax.containers[0])\n",
    "plt.tight_layout()\n"
   ]
  },
  {
   "cell_type": "code",
   "execution_count": null,
   "metadata": {},
   "outputs": [],
   "source": [
    "fig, ax = plt.subplots(figsize = (6,6))\n",
    "df = Result_matrix.iloc[[0,16,17,19,18,20]]\n",
    "sns.barplot(df, x = df.index, y = \"test_R\", color=\"grey\")\n",
    "plt.xticks(rotation = 45)\n",
    "plt.title(\"Ensemble Result : test_R\")\n",
    "ax.bar_label(ax.containers[0])\n",
    "plt.tight_layout()\n"
   ]
  },
  {
   "cell_type": "code",
   "execution_count": null,
   "metadata": {},
   "outputs": [],
   "source": [
    "g = sns.regplot(data= Prediction_matrix, x = '3_model_avg', y = 'y_test',color = '#363737')\n",
    "g.text(-.4,0.55,r'${{R^2}}$ : {:3.4f}'.format(Result_matrix.loc['3_model_avg',\"test_R2\"]), fontsize = 12)\n",
    "g.text(-.4,0.45,r'${{R }}$ : {:3.4f}'.format(Result_matrix.loc['3_model_avg',\"test_R\"]), fontsize = 12)"
   ]
  },
  {
   "cell_type": "code",
   "execution_count": null,
   "metadata": {},
   "outputs": [],
   "source": [
    "g = sns.regplot(data= Prediction_matrix, x = '3_model_Selected', y = 'y_test',color = '#363737')\n",
    "plt.xlabel('Predicted protein', fontsize = 20)\n",
    "plt.ylabel('Observed protein', fontsize = 20)\n",
    "g.text(-.43,0.55,r'${{R^2}}$ : {:3.4f}'.format(Result_matrix.loc['3_model_Selected',\"test_R2\"]), fontsize = 15)\n",
    "g.text(-.43,0.45,r'${{R }}$ : {:3.4f}'.format(Result_matrix.loc['3_model_Selected',\"test_R\"]), fontsize = 15)\n",
    "plt.gca().set_position([0, 0, 1, 1])\n"
   ]
  },
  {
   "cell_type": "code",
   "execution_count": null,
   "metadata": {},
   "outputs": [],
   "source": [
    "fig, ax = plt.subplots(figsize = (6,6))\n",
    "df = Prediction_matrix.iloc[:,[0,1,17,18,20,19,21]]\n",
    "sns.boxplot(df, color=\"grey\")\n",
    "plt.xticks(rotation = 45)\n",
    "plt.title(\"Prediction Result\")\n",
    "plt.tight_layout()\n"
   ]
  }
 ],
 "metadata": {
  "kernelspec": {
   "display_name": "UCEC_2024",
   "language": "python",
   "name": "python3"
  },
  "language_info": {
   "codemirror_mode": {
    "name": "ipython",
    "version": 3
   },
   "file_extension": ".py",
   "mimetype": "text/x-python",
   "name": "python",
   "nbconvert_exporter": "python",
   "pygments_lexer": "ipython3",
   "version": "3.11.7"
  }
 },
 "nbformat": 4,
 "nbformat_minor": 2
}
